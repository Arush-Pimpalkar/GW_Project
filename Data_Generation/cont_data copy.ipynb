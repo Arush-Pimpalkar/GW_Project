{
 "cells": [
  {
   "cell_type": "code",
   "execution_count": 31,
   "metadata": {},
   "outputs": [],
   "source": [
    "import pycbc.noise\n",
    "from pycbc.noise import noise_from_psd\n",
    "import pycbc.psd\n",
    "import pylab as plt\n",
    "import csv\n",
    "from pycbc.waveform import get_td_waveform\n",
    "import random\n",
    "import numpy as np\n",
    "from pycbc.types import TimeSeries, Array"
   ]
  },
  {
   "cell_type": "code",
   "execution_count": 32,
   "metadata": {},
   "outputs": [],
   "source": [
    "T = 4\n",
    "flow = 30.0\n",
    "delta_f = 1.0 / T\n",
    "flen = int(2048 / delta_f) + 1\n",
    "delta_t = 1.0 / 4096\n",
    "tsamples = int(T / delta_t)\n",
    "\n",
    "scale = 1900"
   ]
  },
  {
   "cell_type": "code",
   "execution_count": 33,
   "metadata": {},
   "outputs": [],
   "source": [
    "# PSD\n",
    "psd = pycbc.psd.aLIGOZeroDetHighPower(flen, delta_f, flow)\n",
    "noisesamples = int(4 / delta_t)"
   ]
  },
  {
   "cell_type": "code",
   "execution_count": 34,
   "metadata": {},
   "outputs": [],
   "source": [
    "# with open(\n",
    "#     \"/home/arush/GW_Project_1/Data_Generation/Continous_Check/cont_data_train.csv\",\n",
    "#     \"w\",\n",
    "#     newline=\"\",\n",
    "# ) as file:\n",
    "#     writer = csv.writer(file)\n",
    "#     writer.writerow([\"M1\", \"M2\", \"Time\", \"SNR\", \"Path\"])"
   ]
  },
  {
   "cell_type": "code",
   "execution_count": 35,
   "metadata": {},
   "outputs": [],
   "source": [
    "def get_shifted_wvfrm(shift_percent):\n",
    "    # WVFRM generation\n",
    "    global hp, m1, m2\n",
    "    m1 = random.randint(10, 30)\n",
    "    m2 = random.randint(10, 30)\n",
    "\n",
    "    print(m1, m2)\n",
    "    hp, hc = get_td_waveform(\n",
    "        approximant=\"IMRPhenomT\",\n",
    "        mass1=m1,\n",
    "        mass2=m2,\n",
    "        delta_t=1.0 / 4096,\n",
    "        f_lower=30,\n",
    "    )\n",
    "    hp.resize(16384)\n",
    "    hc.resize(16384)\n",
    "\n",
    "    # Shift the waveform\n",
    "    total_length = len(hp.sample_times)\n",
    "    shift_index = int(shift_percent * total_length)\n",
    "    shifted_data = np.zeros_like(hp.data)\n",
    "    shift_amount = min(len(hp.data), total_length - shift_index)\n",
    "    shifted_data[shift_index : shift_index + shift_amount] = hp.data[:shift_amount]\n",
    "    ts = TimeSeries(shifted_data, delta_t=delta_t)\n",
    "    return ts, m1, m2, hp\n",
    "\n",
    "\n",
    "def get_noise(seed):\n",
    "    noise = noise_from_psd(tsamples, delta_t, psd, seed=seed)\n",
    "    return noise"
   ]
  },
  {
   "cell_type": "code",
   "execution_count": 36,
   "metadata": {},
   "outputs": [],
   "source": [
    "def get_time_and_snr(template, signal):\n",
    "\n",
    "    snr = pycbc.filter.matched_filter(\n",
    "        template, signal, psd=psd, low_frequency_cutoff=flow\n",
    "    )\n",
    "\n",
    "    peak = abs(snr).numpy().argmax()\n",
    "    snrp = abs(snr[peak])\n",
    "    time = snr.sample_times[peak]\n",
    "\n",
    "    return time, snrp"
   ]
  },
  {
   "cell_type": "code",
   "execution_count": 37,
   "metadata": {},
   "outputs": [],
   "source": [
    "with open(\n",
    "    \"/home/arush/GW_Project_1/Data_Generation/Continous_Check/cont_data_train.csv\",\n",
    "    \"w\",\n",
    "    newline=\"\",\n",
    ") as file:\n",
    "    writer = csv.writer(file)\n",
    "    writer.writerow([\"M1\", \"M2\", \"Time\", \"SNR\", \"ChirpMass\"])"
   ]
  },
  {
   "cell_type": "code",
   "execution_count": 38,
   "metadata": {},
   "outputs": [],
   "source": [
    "def save_func(index, csv_parameters_batch, waveforms):\n",
    "    with open(\n",
    "        \"/home/arush/GW_Project_1/Data_Generation/Continous_Check/cont_data_train.csv\",\n",
    "        \"a\",\n",
    "        newline=\"\",\n",
    "    ) as file:\n",
    "        writer = csv.writer(file)\n",
    "        writer.writerows(csv_parameters_batch)\n",
    "\n",
    "    for i, waveform in enumerate(waveforms):\n",
    "        plt.specgram(waveform, Fs=2048)\n",
    "        plt.axis(\"off\")\n",
    "        plt.savefig(\n",
    "            f\"/home/arush/GW_Project_1/Data_Generation/Continous_Check/Data/signal_{index + i}.png\",\n",
    "            bbox_inches=\"tight\",\n",
    "            pad_inches=0,\n",
    "        )\n",
    "        plt.close()\n",
    "        "
   ]
  },
  {
   "cell_type": "code",
   "execution_count": 39,
   "metadata": {},
   "outputs": [],
   "source": [
    "l = 0\n",
    "batch_size = 50\n",
    "batch_data = []\n",
    "waveforms = []"
   ]
  },
  {
   "cell_type": "code",
   "execution_count": null,
   "metadata": {},
   "outputs": [],
   "source": [
    "while l < 250:\n",
    "    random_shift_var = random.uniform(0, 0.7)\n",
    "\n",
    "    waveform, m1, m2, template = get_shifted_wvfrm(random_shift_var)\n",
    "    noise = get_noise(l)\n",
    "\n",
    "    signal = (waveform / scale) + noise\n",
    "\n",
    "    time, snr = get_time_and_snr(template=template, signal=signal)\n",
    "\n",
    "    chirp_m = ((m1 * m2) ** (3 / 5)) / ((m1 + m2) ** (1 / 5))\n",
    "\n",
    "    csv_append = [m1, m2, time, snr, chirp_m]\n",
    "    batch_data.append(csv_append)\n",
    "    waveforms.append(signal)\n",
    "\n",
    "    # Save in batches to minimize I/O operations\n",
    "    if l % batch_size == 0 and l != 0:\n",
    "        save_func(l, batch_data, waveforms)\n",
    "        batch_data = []  # Reset batch data to free memory\n",
    "\n",
    "    l += 1\n",
    "\n",
    "if batch_data:\n",
    "    save_func(l, batch_data, waveforms)"
   ]
  },
  {
   "cell_type": "code",
   "execution_count": null,
   "metadata": {},
   "outputs": [],
   "source": [
    "while l < 500:\n",
    "    random_shift_var = random.uniform(0, 0.7)\n",
    "\n",
    "    waveform, m1, m2, template = get_shifted_wvfrm(random_shift_var)\n",
    "    noise = get_noise(l)\n",
    "\n",
    "    signal = (waveform / scale) + noise\n",
    "\n",
    "    time, snr = get_time_and_snr(template=template, signal=signal)\n",
    "\n",
    "    chirp_m = ((m1 * m2) ** (3 / 5)) / ((m1 + m2) ** (1 / 5))\n",
    "\n",
    "    csv_append = [m1, m2, time, snr, chirp_m]\n",
    "    batch_data.append(csv_append)\n",
    "    waveforms.append(signal)\n",
    "\n",
    "    # Save in batches to minimize I/O operations\n",
    "    if l % batch_size == 0 and l != 0:\n",
    "        save_func(l, batch_data, waveforms)\n",
    "        batch_data = []  # Reset batch data to free memory\n",
    "\n",
    "    l += 1\n",
    "\n",
    "if batch_data:\n",
    "    save_func(l, batch_data, waveforms)"
   ]
  },
  {
   "cell_type": "code",
   "execution_count": null,
   "metadata": {},
   "outputs": [],
   "source": [
    "while l < 750:\n",
    "    random_shift_var = random.uniform(0, 0.7)\n",
    "\n",
    "    waveform, m1, m2, template = get_shifted_wvfrm(random_shift_var)\n",
    "    noise = get_noise(l)\n",
    "\n",
    "    signal = (waveform / scale) + noise\n",
    "\n",
    "    time, snr = get_time_and_snr(template=template, signal=signal)\n",
    "\n",
    "    chirp_m = ((m1 * m2) ** (3 / 5)) / ((m1 + m2) ** (1 / 5))\n",
    "\n",
    "    csv_append = [m1, m2, time, snr, chirp_m]\n",
    "    batch_data.append(csv_append)\n",
    "    waveforms.append(signal)\n",
    "\n",
    "    # Save in batches to minimize I/O operations\n",
    "    if l % batch_size == 0 and l != 0:\n",
    "        save_func(l, batch_data, waveforms)\n",
    "        batch_data = []  # Reset batch data to free memory\n",
    "\n",
    "    l += 1\n",
    "\n",
    "if batch_data:\n",
    "    save_func(l, batch_data, waveforms)"
   ]
  },
  {
   "cell_type": "code",
   "execution_count": null,
   "metadata": {},
   "outputs": [],
   "source": [
    "while l < 1000:\n",
    "    random_shift_var = random.uniform(0, 0.7)\n",
    "\n",
    "    waveform, m1, m2, template = get_shifted_wvfrm(random_shift_var)\n",
    "    noise = get_noise(l)\n",
    "\n",
    "    signal = (waveform / scale) + noise\n",
    "\n",
    "    time, snr = get_time_and_snr(template=template, signal=signal)\n",
    "\n",
    "    chirp_m = ((m1 * m2) ** (3 / 5)) / ((m1 + m2) ** (1 / 5))\n",
    "\n",
    "    csv_append = [m1, m2, time, snr, chirp_m]\n",
    "    batch_data.append(csv_append)\n",
    "    waveforms.append(signal)\n",
    "\n",
    "    # Save in batches to minimize I/O operations\n",
    "    if l % batch_size == 0 and l != 0:\n",
    "        save_func(l, batch_data, waveforms)\n",
    "        batch_data = []  # Reset batch data to free memory\n",
    "\n",
    "    l += 1\n",
    "\n",
    "if batch_data:\n",
    "    save_func(l, batch_data, waveforms)"
   ]
  }
 ],
 "metadata": {
  "kernelspec": {
   "display_name": "python39_1",
   "language": "python",
   "name": "python3"
  },
  "language_info": {
   "codemirror_mode": {
    "name": "ipython",
    "version": 3
   },
   "file_extension": ".py",
   "mimetype": "text/x-python",
   "name": "python",
   "nbconvert_exporter": "python",
   "pygments_lexer": "ipython3",
   "version": "3.9.undefined"
  }
 },
 "nbformat": 4,
 "nbformat_minor": 2
}
