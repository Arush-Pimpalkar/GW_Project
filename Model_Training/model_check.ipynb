{
 "cells": [
  {
   "cell_type": "code",
   "execution_count": 1,
   "metadata": {},
   "outputs": [
    {
     "name": "stdout",
     "output_type": "stream",
     "text": [
      "WARNING:tensorflow:From c:\\Users\\ArushWindows\\.conda\\envs\\tensorflow_venv\\Lib\\site-packages\\keras\\src\\losses.py:2976: The name tf.losses.sparse_softmax_cross_entropy is deprecated. Please use tf.compat.v1.losses.sparse_softmax_cross_entropy instead.\n",
      "\n",
      "WARNING:tensorflow:From c:\\Users\\ArushWindows\\.conda\\envs\\tensorflow_venv\\Lib\\site-packages\\keras\\src\\backend.py:873: The name tf.get_default_graph is deprecated. Please use tf.compat.v1.get_default_graph instead.\n",
      "\n",
      "WARNING:tensorflow:From c:\\Users\\ArushWindows\\.conda\\envs\\tensorflow_venv\\Lib\\site-packages\\keras\\src\\layers\\pooling\\max_pooling2d.py:161: The name tf.nn.max_pool is deprecated. Please use tf.nn.max_pool2d instead.\n",
      "\n",
      "You must install pydot (`pip install pydot`) and install graphviz (see instructions at https://graphviz.gitlab.io/download/) for plot_model to work.\n"
     ]
    }
   ],
   "source": [
    "from tensorflow.keras.models import Sequential\n",
    "from tensorflow.keras.layers import Conv2D, MaxPooling2D, Flatten, Dense\n",
    "from tensorflow.keras.utils import plot_model\n",
    "\n",
    "# Define the model\n",
    "model = Sequential([\n",
    "    Conv2D(32, (3, 3), activation='relu', input_shape=(28, 28, 1)),\n",
    "    MaxPooling2D((2, 2)),\n",
    "    Conv2D(64, (3, 3), activation='relu'),\n",
    "    MaxPooling2D((2, 2)),\n",
    "    Flatten(),\n",
    "    Dense(128, activation='relu'),\n",
    "    Dense(10, activation='softmax')\n",
    "])\n",
    "\n",
    "# Plot the model\n",
    "plot_model(model, to_file='model_architecture.png', show_shapes=True, show_layer_names=True)\n"
   ]
  },
  {
   "cell_type": "code",
   "execution_count": 28,
   "metadata": {},
   "outputs": [
    {
     "name": "stdout",
     "output_type": "stream",
     "text": [
      "Found 3394 validated image filenames.\n",
      "Found 3395 validated image filenames.\n"
     ]
    }
   ],
   "source": [
    "import pandas as pd\n",
    "from tensorflow.keras.preprocessing.image import ImageDataGenerator\n",
    "from tensorflow.keras.models import load_model\n",
    "from tensorflow.keras.losses import MeanSquaredError\n",
    "\n",
    "# Read the CSV files\n",
    "df_val = pd.read_csv(\n",
    "    \"/home/arush/GW_Project_1/Data_Generation/Continous_Check/validation_data.csv\"\n",
    ")\n",
    "df_test = pd.read_csv(\n",
    "    \"/home/arush/GW_Project_1/Data_Generation/Continous_Check/test_data.csv\"\n",
    ")\n",
    "\n",
    "# Image size\n",
    "img_size = (469, 369)\n",
    "\n",
    "# ImageDataGenerator for scaling\n",
    "scale = ImageDataGenerator(rescale=1.0 / 255)\n",
    "\n",
    "# Validation data generator\n",
    "val_generator = scale.flow_from_dataframe(\n",
    "    dataframe=df_val,\n",
    "    x_col=\"Path\",\n",
    "    y_col=\"Time\",\n",
    "    target_size=img_size,\n",
    "    class_mode=\"raw\",  # For regression, use 'raw'\n",
    "    batch_size=32,\n",
    "    shuffle=True,\n",
    ")\n",
    "\n",
    "# Test data generator\n",
    "test_generator = scale.flow_from_dataframe(\n",
    "    dataframe=df_test,\n",
    "    x_col=\"Path\",\n",
    "    y_col=\"Time\",\n",
    "    target_size=img_size,\n",
    "    class_mode=\"raw\",  # For regression, use 'raw'\n",
    "    batch_size=32,\n",
    "    shuffle=False,\n",
    ")"
   ]
  },
  {
   "cell_type": "code",
   "execution_count": 42,
   "metadata": {},
   "outputs": [
    {
     "name": "stderr",
     "output_type": "stream",
     "text": [
      "WARNING:absl:Compiled the loaded model, but the compiled metrics have yet to be built. `model.compile_metrics` will be empty until you train or evaluate the model.\n",
      "WARNING:absl:Error in loading the saved optimizer state. As a result, your model is starting with a freshly initialized optimizer.\n"
     ]
    },
    {
     "name": "stdout",
     "output_type": "stream",
     "text": [
      "\u001b[1m107/107\u001b[0m \u001b[32m━━━━━━━━━━━━━━━━━━━━\u001b[0m\u001b[37m\u001b[0m \u001b[1m101s\u001b[0m 936ms/step - loss: 0.7675 - mean_absolute_error: 0.7645 - mean_squared_error: 0.7675\n",
      "Test Loss (MSE): 0.7545260787010193\n",
      "Test Mean Squared Error: 0.7558409571647644\n",
      "Test Mean Absolute Error: 0.7545260787010193\n"
     ]
    }
   ],
   "source": [
    "from keras.src.legacy.saving import legacy_h5_format\n",
    "from tensorflow.keras.losses import MeanSquaredError, MeanAbsoluteError\n",
    "\n",
    "filepath = \"/home/arush/GW_Project_1/Model_Training/Models/cnn_model_time_v1.h5\"\n",
    "\n",
    "# Load the model with custom objects\n",
    "# Load the model\n",
    "model = legacy_h5_format.load_model_from_hdf5(filepath, custom_objects={\"mse\": \"mse\"})\n",
    "\n",
    "\n",
    "# Recompile the model with a fresh optimizer and metrics\n",
    "model.compile(\n",
    "    optimizer=\"adam\",\n",
    "    loss=MeanSquaredError(),\n",
    "    metrics=[MeanSquaredError(), MeanAbsoluteError()],\n",
    ")\n",
    "\n",
    "\n",
    "results = model.evaluate(test_generator)\n",
    "\n",
    "# Print evaluation results\n",
    "print(f\"Test Loss (MSE): {results[0]}\")\n",
    "print(f\"Test Mean Squared Error: {results[1]}\")\n",
    "print(f\"Test Mean Absolute Error: {results[2]}\")"
   ]
  },
  {
   "cell_type": "code",
   "execution_count": 43,
   "metadata": {},
   "outputs": [
    {
     "name": "stdout",
     "output_type": "stream",
     "text": [
      "[0.7545260787010193, 0.7558409571647644, 0.7545260787010193]\n"
     ]
    }
   ],
   "source": [
    "# Print accuracy\n",
    "print(results)\n",
    "######"
   ]
  }
 ],
 "metadata": {
  "kernelspec": {
   "display_name": "python39_1",
   "language": "python",
   "name": "python3"
  },
  "language_info": {
   "codemirror_mode": {
    "name": "ipython",
    "version": 3
   },
   "file_extension": ".py",
   "mimetype": "text/x-python",
   "name": "python",
   "nbconvert_exporter": "python",
   "pygments_lexer": "ipython3",
   "version": "3.11.9"
  }
 },
 "nbformat": 4,
 "nbformat_minor": 2
}
