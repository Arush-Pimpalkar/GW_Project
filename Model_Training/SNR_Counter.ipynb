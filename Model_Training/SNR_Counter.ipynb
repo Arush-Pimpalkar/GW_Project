{
 "cells": [
  {
   "cell_type": "code",
   "execution_count": 1,
   "metadata": {},
   "outputs": [],
   "source": [
    "import re\n",
    "import os\n",
    "import numpy as np\n",
    "import pylab as plt\n",
    "import random"
   ]
  },
  {
   "cell_type": "code",
   "execution_count": 2,
   "metadata": {},
   "outputs": [],
   "source": [
    "def extract_snr(filename):\n",
    "    match = re.search(r\"SNR=(\\d+\\.\\d{1,3})\", filename)\n",
    "    if match:\n",
    "        return float(match.group(1))\n",
    "    else:\n",
    "        return 0\n",
    "\n",
    "\n",
    "# Function to load labels from filenames\n",
    "def load_labels_from_directory(directory):\n",
    "    labels = []\n",
    "    filenames = []\n",
    "    for root, _, files in os.walk(directory):\n",
    "        for filename in files:\n",
    "            if filename.endswith(\".png\"):\n",
    "                try:\n",
    "                    snr = extract_snr(filename)\n",
    "                except ValueError:\n",
    "                    snr = 0  # Label for noise\n",
    "                labels.append(snr)\n",
    "                filenames.append(os.path.join(root, filename))\n",
    "    return np.array(labels), filenames\n",
    "\n",
    "\n",
    "labels_data, filenames_data = load_labels_from_directory(\n",
    "    \"/home/arush/GW_Project_1/Data_Generation/Continous_Check/Data\"\n",
    ")\n",
    "\n",
    "labels_noise, filenames_noise = load_labels_from_directory(\n",
    "    \"/home/arush/GW_Project_1/Data_Generation/Continous_Check/noise\"\n",
    ")\n",
    "\n",
    "\n",
    "labels = np.concatenate((labels_data, labels_noise))\n",
    "filenames = np.concatenate((filenames_data, filenames_noise))\n",
    "\n",
    "combined = list(zip(labels, filenames))\n",
    "\n",
    "random.seed(42)\n",
    "random.shuffle(combined)\n",
    "\n",
    "labels, filenames = zip(*combined)\n",
    "\n",
    "labels = np.array(labels)\n",
    "filenames = np.array(filenames)"
   ]
  },
  {
   "cell_type": "code",
   "execution_count": 3,
   "metadata": {},
   "outputs": [
    {
     "name": "stdout",
     "output_type": "stream",
     "text": [
      "39100\n"
     ]
    }
   ],
   "source": [
    "print(len(labels))"
   ]
  },
  {
   "cell_type": "code",
   "execution_count": 4,
   "metadata": {},
   "outputs": [],
   "source": [
    "array = []\n",
    "for i in range(len(labels)):\n",
    "    array.append(int(labels[i]))"
   ]
  },
  {
   "cell_type": "code",
   "execution_count": 5,
   "metadata": {},
   "outputs": [],
   "source": [
    "snr_count = []\n",
    "for i in range(len(array)):\n",
    "    snr_count.append(0)"
   ]
  },
  {
   "cell_type": "code",
   "execution_count": 6,
   "metadata": {},
   "outputs": [],
   "source": [
    "for j in range(len(labels)):\n",
    "    snr_count[int(labels[j])] += 1"
   ]
  },
  {
   "cell_type": "code",
   "execution_count": 7,
   "metadata": {},
   "outputs": [],
   "source": [
    "array_zreoure = []\n",
    "for k in range(21):\n",
    "    array_zreoure.append(snr_count[k])"
   ]
  },
  {
   "cell_type": "code",
   "execution_count": 8,
   "metadata": {},
   "outputs": [
    {
     "name": "stdout",
     "output_type": "stream",
     "text": [
      "[3100, 0, 0, 0, 0, 387, 1052, 1917, 2481, 2564, 2714, 2821, 2769, 2631, 2569, 2595, 2590, 2964, 2936, 3010, 0]\n"
     ]
    }
   ],
   "source": [
    "print(array_zreoure)"
   ]
  },
  {
   "cell_type": "code",
   "execution_count": 9,
   "metadata": {},
   "outputs": [
    {
     "data": {
      "text/plain": [
       "[<matplotlib.lines.Line2D at 0x765cc0b3fb80>]"
      ]
     },
     "execution_count": 9,
     "metadata": {},
     "output_type": "execute_result"
    },
    {
     "data": {
      "image/png": "[encoded data removed]",
      "text/plain": [
       "<Figure size 640x480 with 1 Axes>"
      ]
     },
     "metadata": {},
     "output_type": "display_data"
    }
   ],
   "source": [
    "plt.plot(array_zreoure, \"o\")"
   ]
  }
 ],
 "metadata": {
  "kernelspec": {
   "display_name": "python39_1",
   "language": "python",
   "name": "python3"
  },
  "language_info": {
   "codemirror_mode": {
    "name": "ipython",
    "version": 3
   },
   "file_extension": ".py",
   "mimetype": "text/x-python",
   "name": "python",
   "nbconvert_exporter": "python",
   "pygments_lexer": "ipython3",
   "version": "3.9.18"
  }
 },
 "nbformat": 4,
 "nbformat_minor": 2
}
